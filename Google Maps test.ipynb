{
 "cells": [
  {
   "cell_type": "code",
   "execution_count": 1,
   "metadata": {},
   "outputs": [
    {
     "name": "stdout",
     "output_type": "stream",
     "text": [
      "Requirement already satisfied: OSMPythonTools in c:\\users\\ayham\\appdata\\local\\programs\\python\\python310\\lib\\site-packages (0.3.5)\n",
      "Requirement already satisfied: beautifulsoup4 in c:\\users\\ayham\\appdata\\local\\programs\\python\\python310\\lib\\site-packages (from OSMPythonTools) (4.11.1)\n",
      "Requirement already satisfied: geojson in c:\\users\\ayham\\appdata\\local\\programs\\python\\python310\\lib\\site-packages (from OSMPythonTools) (2.5.0)\n",
      "Requirement already satisfied: lxml in c:\\users\\ayham\\appdata\\local\\programs\\python\\python310\\lib\\site-packages (from OSMPythonTools) (4.9.1)\n",
      "Requirement already satisfied: matplotlib in c:\\users\\ayham\\appdata\\local\\programs\\python\\python310\\lib\\site-packages (from OSMPythonTools) (3.6.1)\n",
      "Requirement already satisfied: numpy in c:\\users\\ayham\\appdata\\local\\programs\\python\\python310\\lib\\site-packages (from OSMPythonTools) (1.23.3)\n",
      "Requirement already satisfied: pandas in c:\\users\\ayham\\appdata\\local\\programs\\python\\python310\\lib\\site-packages (from OSMPythonTools) (1.5.0)\n",
      "Requirement already satisfied: ujson in c:\\users\\ayham\\appdata\\local\\programs\\python\\python310\\lib\\site-packages (from OSMPythonTools) (5.5.0)\n",
      "Requirement already satisfied: xarray in c:\\users\\ayham\\appdata\\local\\programs\\python\\python310\\lib\\site-packages (from OSMPythonTools) (2022.10.0)\n",
      "Requirement already satisfied: soupsieve>1.2 in c:\\users\\ayham\\appdata\\local\\programs\\python\\python310\\lib\\site-packages (from beautifulsoup4->OSMPythonTools) (2.3.2.post1)\n",
      "Requirement already satisfied: pillow>=6.2.0 in c:\\users\\ayham\\appdata\\local\\programs\\python\\python310\\lib\\site-packages (from matplotlib->OSMPythonTools) (9.2.0)\n",
      "Requirement already satisfied: pyparsing>=2.2.1 in c:\\users\\ayham\\appdata\\roaming\\python\\python310\\site-packages (from matplotlib->OSMPythonTools) (3.0.9)\n",
      "Requirement already satisfied: kiwisolver>=1.0.1 in c:\\users\\ayham\\appdata\\local\\programs\\python\\python310\\lib\\site-packages (from matplotlib->OSMPythonTools) (1.4.4)\n",
      "Requirement already satisfied: python-dateutil>=2.7 in c:\\users\\ayham\\appdata\\local\\programs\\python\\python310\\lib\\site-packages (from matplotlib->OSMPythonTools) (2.8.2)\n",
      "Requirement already satisfied: contourpy>=1.0.1 in c:\\users\\ayham\\appdata\\local\\programs\\python\\python310\\lib\\site-packages (from matplotlib->OSMPythonTools) (1.0.5)\n",
      "Requirement already satisfied: fonttools>=4.22.0 in c:\\users\\ayham\\appdata\\local\\programs\\python\\python310\\lib\\site-packages (from matplotlib->OSMPythonTools) (4.37.4)\n",
      "Requirement already satisfied: cycler>=0.10 in c:\\users\\ayham\\appdata\\local\\programs\\python\\python310\\lib\\site-packages (from matplotlib->OSMPythonTools) (0.11.0)\n",
      "Requirement already satisfied: packaging>=20.0 in c:\\users\\ayham\\appdata\\roaming\\python\\python310\\site-packages (from matplotlib->OSMPythonTools) (21.3)\n",
      "Requirement already satisfied: pytz>=2020.1 in c:\\users\\ayham\\appdata\\local\\programs\\python\\python310\\lib\\site-packages (from pandas->OSMPythonTools) (2022.4)\n",
      "Requirement already satisfied: six>=1.5 in c:\\users\\ayham\\appdata\\local\\programs\\python\\python310\\lib\\site-packages (from python-dateutil>=2.7->matplotlib->OSMPythonTools) (1.16.0)\n",
      "Note: you may need to restart the kernel to use updated packages.\n"
     ]
    }
   ],
   "source": [
    "pip install OSMPythonTools"
   ]
  },
  {
   "cell_type": "code",
   "execution_count": 1,
   "metadata": {},
   "outputs": [],
   "source": [
    "from OSMPythonTools.api import Api\n",
    "api = Api()"
   ]
  },
  {
   "cell_type": "markdown",
   "metadata": {},
   "source": []
  },
  {
   "cell_type": "code",
   "execution_count": 2,
   "metadata": {},
   "outputs": [],
   "source": [
    "names = []\n",
    "attractions = []\n",
    "websites = []\n",
    "addresses = []"
   ]
  },
  {
   "cell_type": "code",
   "execution_count": 3,
   "metadata": {},
   "outputs": [],
   "source": [
    "stateMuseum = api.query('relation/6268982')\n",
    "names.append(stateMuseum.tag('name'))\n",
    "attractions.append(stateMuseum.tag('tourism'))\n",
    "websites.append(stateMuseum.tag('website'))\n",
    "addresses.append(stateMuseum.tag('addr:housenumber') + \" \" +  stateMuseum.tag('addr:street') + \", \" + stateMuseum.tag('addr:city') + \" ,\" + stateMuseum.tag('addr:state'))"
   ]
  },
  {
   "cell_type": "code",
   "execution_count": 4,
   "metadata": {},
   "outputs": [],
   "source": [
    "whiteRiver = api.query('way/113890743')\n",
    "names.append(whiteRiver.tag('name'))\n",
    "attractions.append(whiteRiver.tag('leisure'))\n",
    "websites.append(whiteRiver.tag('source'))\n",
    "addresses.append(addresses[len(addresses)-1])"
   ]
  },
  {
   "cell_type": "code",
   "execution_count": 5,
   "metadata": {},
   "outputs": [],
   "source": [
    "motorSpeedway = api.query('way/589668075')\n",
    "names.append(motorSpeedway.tag('name'))\n",
    "attractions.append(motorSpeedway.tag('highway'))\n",
    "websites.append(motorSpeedway.tag('website'))\n",
    "motorSpeedwayTicket = api.query('way/388929550')\n",
    "addresses.append(motorSpeedwayTicket.tag('addr:housenumber') + \" \" +  motorSpeedwayTicket.tag('addr:street') + \", \" + motorSpeedwayTicket.tag('addr:city') + \" ,\" + motorSpeedwayTicket.tag('addr:state'))\n"
   ]
  },
  {
   "cell_type": "code",
   "execution_count": 6,
   "metadata": {},
   "outputs": [],
   "source": [
    "capitol = api.query('way/339985770')\n",
    "names.append(capitol.tag('name'))\n",
    "attractions.append(capitol.tag('addr:township'))\n",
    "websites.append(capitol.tag('website'))\n",
    "addresses.append(capitol.tag('addr:housenumber') + \" \" +  capitol.tag('addr:street') + \", \" + capitol.tag('addr:city') + \" ,\" + capitol.tag('addr:state'))\n"
   ]
  },
  {
   "cell_type": "code",
   "execution_count": 13,
   "metadata": {},
   "outputs": [],
   "source": [
    "hoursPerAttraction = {'museum' : 2, 'park' : 3, 'zoo' : 5, 'memorial' : 1, 'center' : 1, 'raceway' : 2, 'stadium' : 2}\n",
    "duration = []\n",
    "for attraction in attractions:\n",
    "    if attraction.lower() in hoursPerAttraction:\n",
    "        duration.append(str(hoursPerAttraction[attraction.lower()]) + \" hours\") \n"
   ]
  },
  {
   "cell_type": "code",
   "execution_count": 32,
   "metadata": {},
   "outputs": [],
   "source": [
    "schedule = []\n",
    "startTime = [9]\n",
    "endTime = []\n",
    "suffix = \" AM\"\n",
    "for i in range(len(duration)):\n",
    "    endTime.append(startTime[i] + int(duration[i][0]))\n",
    "    if endTime[i] > 12:\n",
    "        suffix = \" PM\"\n",
    "        endTime[i] = endTime[i] % 12\n",
    "    schedule.append(str(startTime[i]) + \"-\" + str(endTime[i]) + suffix)\n",
    "    startTime.append(endTime[i] + 1)"
   ]
  },
  {
   "cell_type": "code",
   "execution_count": 29,
   "metadata": {},
   "outputs": [],
   "source": [
    "import pandas as pd\n",
    "\n",
    "data = pd.DataFrame({\n",
    "    'Name of Attraction': names,\n",
    "    'Attraction Type': attractions,\n",
    "    'Website' : websites,\n",
    "    'Address' : addresses,\n",
    "    'Duration' : duration, \n",
    "    'Schedule' : schedule\n",
    "})\n",
    "data.to_csv('Indianapolis_Attractions.csv', index=False)"
   ]
  },
  {
   "cell_type": "code",
   "execution_count": 43,
   "metadata": {},
   "outputs": [
    {
     "name": "stderr",
     "output_type": "stream",
     "text": [
      "C:\\Users\\ayham\\AppData\\Local\\Temp\\ipykernel_50968\\1256902000.py:10: UserWarning: FixedFormatter should only be used together with FixedLocator\n",
      "  schedule.set_xticklabels(['9', '10', '11', '12', '1', '2', '3', '4', '5', '6', '7', '8', '9'])\n"
     ]
    },
    {
     "data": {
      "image/png": "[encoded data removed]",
      "text/plain": [
       "<Figure size 640x480 with 1 Axes>"
      ]
     },
     "metadata": {},
     "output_type": "display_data"
    }
   ],
   "source": [
    "import matplotlib.pyplot as plt\n",
    "\n",
    "fig, schedule = plt.subplots()\n",
    "schedule.set_ylim(0, 7)\n",
    "schedule.set_xlim(0, 13)\n",
    "schedule.set_xlabel('Time')\n",
    "schedule.set_ylabel('Activity')\n",
    "schedule.set_yticks([2, 3, 4, 5])\n",
    "schedule.set_yticklabels(names)\n",
    "schedule.set_xticklabels(['9', '10', '11', '12', '1', '2', '3', '4', '5', '6', '7', '8', '9'])\n",
    "schedule.grid(True)\n",
    "for i in range(len(duration)):\n",
    "    schedule.broken_barh([(int(startTime[i]), int(duration[i][0]))], (i, 1))\n",
    "plt.savefig(\"scheule.png\")\n",
    "\n",
    "\n"
   ]
  },
  {
   "cell_type": "markdown",
   "metadata": {},
   "source": []
  }
 ],
 "metadata": {
  "kernelspec": {
   "display_name": "Python 3.10.7 64-bit",
   "language": "python",
   "name": "python3"
  },
  "language_info": {
   "codemirror_mode": {
    "name": "ipython",
    "version": 3
   },
   "file_extension": ".py",
   "mimetype": "text/x-python",
   "name": "python",
   "nbconvert_exporter": "python",
   "pygments_lexer": "ipython3",
   "version": "3.10.7"
  },
  "orig_nbformat": 4,
  "vscode": {
   "interpreter": {
    "hash": "40b4a96cd7b8832294d80182007b6c81855ce00a932cdaf64a6660220ce901da"
   }
  }
 },
 "nbformat": 4,
 "nbformat_minor": 2
}
